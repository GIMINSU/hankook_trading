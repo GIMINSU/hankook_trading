{
 "cells": [
  {
   "cell_type": "code",
   "execution_count": null,
   "metadata": {},
   "outputs": [],
   "source": [
    "from create_cci_signal import trade_cci\n",
    "\n",
    "price_target_market=\"ETF_KR\"\n",
    "target_stock_code = \"261260\"\n",
    "order_type = \"01\"\n",
    "trade_cci(price_target_market, order_type, target_stock_code)\n",
    "\n",
    "# price_target_market=\"NYSE\"\n",
    "# target_stock_code = \"CPNG\"\n",
    "# order_type = \"34\"\n",
    "# trade_cci(price_target_market, order_type, target_stock_code)\n",
    "\n",
    "# price_target_market=\"ETF_US\"\n",
    "# target_stock_code = \"TQQQ\"\n",
    "# order_type = \"34\"\n",
    "# trade_cci(price_target_market, order_type, target_stock_code)\n",
    "\n",
    "# price_target_market=\"ETF_US\"\n",
    "# target_stock_code = \"SQQQ\"\n",
    "# order_type = \"34\"\n",
    "# trade_cci(price_target_market, order_type, target_stock_code)"
   ]
  },
  {
   "cell_type": "code",
   "execution_count": null,
   "metadata": {},
   "outputs": [],
   "source": [
    "import FinanceDataReader as fdr\n",
    "df = fdr.StockListing(\"ETF/KR\")\n",
    "df"
   ]
  },
  {
   "cell_type": "code",
   "execution_count": null,
   "metadata": {},
   "outputs": [],
   "source": [
    "df[df[\"Name\"].str.contains(\"인버스\")]"
   ]
  },
  {
   "cell_type": "code",
   "execution_count": null,
   "metadata": {},
   "outputs": [],
   "source": [
    "import pandas as pd\n",
    "us_etf_order_dict = {\n",
    "    \"AMEX\" : [\"JEPI\"],\n",
    "    \"NASDAQ\" : [\"TQQQ\",]\n",
    "}\n",
    "\n",
    "us_etf_order_df = pd.DataFrame(us_etf_order_dict)\n",
    "us_etf_order_df"
   ]
  },
  {
   "cell_type": "code",
   "execution_count": null,
   "metadata": {},
   "outputs": [],
   "source": [
    "us_etf_order_df[\"AMEX\"].values.tolist()"
   ]
  },
  {
   "cell_type": "code",
   "execution_count": null,
   "metadata": {},
   "outputs": [],
   "source": [
    "import financedatabase as fd\n",
    "df = fd.ETFs().search(currency=\"USD\").reset_index()\n",
    "df"
   ]
  },
  {
   "cell_type": "code",
   "execution_count": null,
   "metadata": {},
   "outputs": [],
   "source": [
    "df[df[\"symbol\"]==\"TQQQ\"]"
   ]
  },
  {
   "cell_type": "code",
   "execution_count": null,
   "metadata": {},
   "outputs": [],
   "source": []
  },
  {
   "cell_type": "code",
   "execution_count": null,
   "metadata": {},
   "outputs": [],
   "source": [
    "df[df[\"Symbol\"] == \"JEPI\"]"
   ]
  },
  {
   "cell_type": "code",
   "execution_count": null,
   "metadata": {},
   "outputs": [],
   "source": [
    "price_target_market=\"NYSE\"\n",
    "target_stock_code = \"CPNG\"\n",
    "order_type = \"34\"\n",
    "trade_cci(price_target_market, order_type, target_stock_code)"
   ]
  },
  {
   "cell_type": "code",
   "execution_count": null,
   "metadata": {},
   "outputs": [],
   "source": [
    "from hankook_trade_api import TradeHankookAPI\n",
    "from config import HankookConfig\n",
    "# TradeHankookAPI(HankookConfig).us_order_cash_stock(transaction=\"Buy\", price=\"14\", order_type=\"34\", stock_code=\"CPNG\", order_market=\"NYSE\", quantity=\"1\")\n",
    "TradeHankookAPI(HankookConfig).us_order_cash_stock(transaction=\"Buy\", price=\"14\", order_type=\"34\", stock_code=\"JEPI\", order_market=\"AMEX\", quantity=\"1\")"
   ]
  },
  {
   "cell_type": "code",
   "execution_count": null,
   "metadata": {},
   "outputs": [],
   "source": [
    "TradeHankookAPI(HankookConfig).us_inquire_psamount(\"CPNG\", \"NYSE\", \"14\")"
   ]
  },
  {
   "cell_type": "code",
   "execution_count": null,
   "metadata": {},
   "outputs": [],
   "source": [
    "import FinanceDataReader as fdr\n",
    "from datetime import datetime, timedelta\n",
    "cci_calculate_days = 20\n",
    "\n",
    "end_date = datetime.now()\n",
    "start_date = end_date - timedelta(days = cci_calculate_days*2)\n",
    "start_date_str = datetime.strftime(start_date, \"%Y-%m-%d\")\n",
    "end_date_str = datetime.strftime(end_date, \"%Y-%m-%d\")\n",
    "\n",
    "fdr.DataReader(target_stock_code)\n"
   ]
  },
  {
   "cell_type": "code",
   "execution_count": null,
   "metadata": {},
   "outputs": [],
   "source": []
  },
  {
   "cell_type": "code",
   "execution_count": null,
   "metadata": {},
   "outputs": [],
   "source": [
    "df[df[\"Code\"] == \"261270\"]"
   ]
  },
  {
   "cell_type": "code",
   "execution_count": null,
   "metadata": {},
   "outputs": [],
   "source": []
  },
  {
   "cell_type": "code",
   "execution_count": null,
   "metadata": {},
   "outputs": [],
   "source": [
    "from config import HankookConfig\n",
    "from hankook_trade_api import TradeHankookAPI\n",
    "\n",
    "transaction = \"Buy\"\n",
    "stock_code = \"261270\"\n",
    "order_type = \"01\"\n",
    "quantity = \"1\"\n",
    "price = \"0\"\n",
    "TradeHankookAPI(HankookConfig).kr_order_cash_stock(transaction, stock_code, order_type, quantity, price)\n"
   ]
  },
  {
   "cell_type": "code",
   "execution_count": null,
   "metadata": {},
   "outputs": [],
   "source": [
    "TradeHankookAPI(HankookConfig).kr_inquire_daily_ccld(\"20240101\", \"20240124\")"
   ]
  },
  {
   "cell_type": "code",
   "execution_count": null,
   "metadata": {},
   "outputs": [],
   "source": [
    "TradeHankookAPI(HankookConfig).kr_inquire_psbl_order(\"500036\", \"0\", \"01\")"
   ]
  },
  {
   "cell_type": "code",
   "execution_count": null,
   "metadata": {},
   "outputs": [],
   "source": [
    "TradeHankookAPI(HankookConfig).kr_inquire_daily_ccld(\"20240101\", \"20240124\")"
   ]
  },
  {
   "cell_type": "code",
   "execution_count": null,
   "metadata": {},
   "outputs": [],
   "source": [
    "country_code = \"kr\"\n",
    "TradeHankookAPI(HankookConfig).issue_access_token(country_code)\n",
    "import pandas as pd\n",
    "pd.read_csv(\"kr_token.csv\")[\"kr_token\"][0]"
   ]
  },
  {
   "cell_type": "code",
   "execution_count": null,
   "metadata": {},
   "outputs": [],
   "source": []
  },
  {
   "cell_type": "code",
   "execution_count": null,
   "metadata": {},
   "outputs": [],
   "source": [
    "df[\"kr_token\"] = 1\n",
    "df"
   ]
  },
  {
   "cell_type": "code",
   "execution_count": null,
   "metadata": {},
   "outputs": [],
   "source": [
    "from hankook_trade_api import issue_access_token\n",
    "from config import HankookConfig\n",
    "import requests\n",
    "import json\n",
    "\n",
    "class TradeHankookAPI(HankookConfig):\n",
    "    def __init__(self, HankookConfig):\n",
    "        self.kr_key = HankookConfig.kr_key\n",
    "        self.kr_secret = HankookConfig.kr_secret\n",
    "        self.us_key = HankookConfig.us_key\n",
    "        self.us_secret = HankookConfig.us_secret\n",
    "        self.url_base = \"https://openapi.koreainvestment.com:9443\"\n",
    "        self.kr_account_number = HankookConfig.kr_account_number\n",
    "        self.us_account_number = HankookConfig.us_account_number\n",
    "        \n",
    "    def issue_access_token(self, country_code):\n",
    "        app_key = None\n",
    "        app_secret = None\n",
    "        csv_file_name = f\"{country_code}_token.csv\"\n",
    "        \n",
    "        if country_code == \"kr\":\n",
    "            app_key = self.kr_key\n",
    "            app_secret = self.kr_secret\n",
    "            \n",
    "        elif country_code == \"us\":\n",
    "            app_key = self.us_key\n",
    "            app_secret = self.us_secret\n",
    "        \n",
    "        url_base = \"https://openapi.koreainvestment.com:9443\"\n",
    "        url = \"oauth2/tokenP\"  ## KIS DEVELOPERS > API 문서 > 각 항목 > 기본정보 > URL 을 의미함\n",
    "        \n",
    "        final_url = f\"{url_base}/{url}\"\n",
    "        \n",
    "        headers = {\"content-type\" : \"application/json\"}\n",
    "        body = {\n",
    "            \"grant_type\" : \"client_credentials\",\n",
    "            \"appkey\" : app_key,\n",
    "            \"appsecret\" : app_secret\n",
    "            }\n",
    "        \n",
    "        r = requests.post(final_url, headers = headers, data = json.dumps(body))\n",
    "        r_code = r.status_code\n",
    "        \n",
    "        access_token = None\n",
    "        \n",
    "        if r_code == 200:\n",
    "            access_token = r.json()[\"access_token\"]\n",
    "            return_dict = {f\"{country_code}_token\" : access_token}\n",
    "            df = pd.DataFrame([return_dict])\n",
    "            df.to_csv(csv_file_name, index=False, encoding=\"utf-8-sig\")\n",
    "            \n",
    "            print(\"Success Issue Access Token.\")\n",
    "        else:\n",
    "            print(\"Fail Issue Access Token.\")\n",
    "            print(\"response :\", r_code)\n",
    "            print(\"response headers :\", r.headers)\n",
    "            print(\"resopnse text :\", r.text)\n",
    "            pass\n",
    "            \n",
    "        "
   ]
  },
  {
   "cell_type": "code",
   "execution_count": null,
   "metadata": {},
   "outputs": [],
   "source": [
    "\n",
    "kr_app_key = HankookConfig.kr_key\n",
    "kr_app_secret = HankookConfig.kr_secret\n",
    "us_app_key = HankookConfig.us_key\n",
    "us_app_secret = HankookConfig.us_secret\n",
    "\n",
    "\n",
    "\n",
    "\n",
    "# kr_token = issue_access_token(kr_app_key, kr_app_secret)\n",
    "# kr_token"
   ]
  },
  {
   "cell_type": "code",
   "execution_count": null,
   "metadata": {},
   "outputs": [],
   "source": [
    "us_token = issue_access_token(us_app_key, us_app_secret)\n",
    "us_token"
   ]
  },
  {
   "cell_type": "code",
   "execution_count": null,
   "metadata": {},
   "outputs": [],
   "source": [
    "def "
   ]
  },
  {
   "cell_type": "code",
   "execution_count": null,
   "metadata": {},
   "outputs": [],
   "source": [
    "{\"kr_token\" : kr_token,\n",
    " }"
   ]
  },
  {
   "cell_type": "code",
   "execution_count": null,
   "metadata": {},
   "outputs": [],
   "source": [
    "import sys\n",
    "from os import path\n",
    "app_path = path.abspath(path.join(\"\"))\n",
    "config_path = path.abspath(path.join(\"..\"))\n",
    "\n",
    "if app_path not in sys.path:\n",
    "    sys.path.append(app_path)\n",
    "    \n",
    "if config_path not in sys.path:\n",
    "    sys.path.append(config_path)\n",
    "\n",
    "from flask import Flask\n",
    "import json\n",
    "from datetime import datetime, timedelta\n",
    "\n",
    "# Import Required Schedule\n",
    "from apscheduler.schedulers.background import BackgroundScheduler\n",
    "from apscheduler.triggers.cron import CronTrigger\n",
    "\n",
    "# Import Loging\n",
    "import logging\n",
    "logging.basicConfig(filename='./test.log', level=logging.ERROR)\n",
    "\n",
    "# Slack Import\n",
    "from slack_message import SendMessageSlack\n",
    "from config import SlackConfig, HankookConfig, CalculateCCIConfig, DataFrameConfig\n",
    "\n",
    "from hankook_trade_api import TradeHankookAPI, issue_access_token\n",
    "\n",
    "import FinanceDataReader as fdr\n",
    "import financedatabase as fd\n",
    "import pandas as pd\n",
    "import numpy as np\n",
    "from collections import deque\n",
    "\n",
    "import traceback"
   ]
  },
  {
   "cell_type": "code",
   "execution_count": null,
   "metadata": {},
   "outputs": [],
   "source": [
    "def create_object_price_dataframe(symbol, trip_end):\n",
    "    \"\"\"\n",
    "    return : price_df, symbol_name\n",
    "    \"\"\"\n",
    "\n",
    "    ignore_csv_file_path = DataFrameConfig.ignore_csv_file_path\n",
    "    fd_symbol_var = DataFrameConfig.fd_symbol_var\n",
    "    fd_name_var = DataFrameConfig.fd_name_var\n",
    "    date_column_var = DataFrameConfig.date_column_var\n",
    "\n",
    "    trip_end_str = trip_end.strftime(\"%Y-%m-%d\")\n",
    "\n",
    "    price_df = fdr.DataReader(symbol, end=trip_end_str).reset_index()    \n",
    "    price_df = price_df[price_df[\"Volume\"]!=0].reset_index(drop=True)\n",
    "    price_df[date_column_var] = price_df[date_column_var].astype(\"datetime64[ns]\")\n",
    "    price_df[date_column_var] = price_df[date_column_var].dt.date\n",
    "    max_date = price_df[date_column_var].max()\n",
    "\n",
    "    return price_df\n",
    "\n",
    "def create_cci_index(price_df, cci_calculate_days):\n",
    "    \"\"\"\n",
    "    return cci_index_df\n",
    "    \"\"\"\n",
    "    date_column_var = DataFrameConfig.date_column_var\n",
    "    cci_column_var = CalculateCCIConfig.cci_column_var\n",
    "    cci_calculate_days=int(cci_calculate_days)\n",
    "    pre_1day_cci_column_var = f\"Before_1Day_{cci_column_var}\"\n",
    "\n",
    "    price_df[\"TP\"] = (price_df[\"High\"] + price_df[\"Low\"] + price_df[\"Close\"]) / 3\n",
    "    price_df[\"sma\"] = price_df[\"TP\"].rolling(cci_calculate_days).mean()\n",
    "    price_df[\"mad\"] = price_df[\"TP\"].rolling(cci_calculate_days).apply(lambda x: abs(x - pd.Series(x).mean()).sum() / cci_calculate_days)\n",
    "    price_df[cci_column_var] = (price_df[\"TP\"] - price_df[\"sma\"]) / (0.015 * price_df[\"mad\"])\n",
    "    price_df[pre_1day_cci_column_var] = price_df[cci_column_var].shift(1)\n",
    "    price_df[date_column_var] = price_df[date_column_var].astype(\"datetime64[ns]\")\n",
    "    price_df[date_column_var] = price_df[date_column_var].dt.date\n",
    "\n",
    "    cci_index_df = price_df\n",
    "    return cci_index_df\n",
    "\n",
    "\n",
    "\n",
    "def create_trade_signal_cci(cci_index_df, cci_overheating_benchmark, cci_stagnation_benchmark, strategy_type, target_investment_days, target_return_rate):\n",
    "    \"\"\"\n",
    "    return signal_df, strategy_type\n",
    "    \"\"\"\n",
    "    cci_column_var = CalculateCCIConfig.cci_column_var\n",
    "    date_column_var = DataFrameConfig.date_column_var\n",
    "    cci_overheating_benchmark=int(cci_overheating_benchmark)\n",
    "    cci_stagnation_benchmark=int(cci_stagnation_benchmark)\n",
    "\n",
    "    cci_index_df[\"cci_trade_signal\"] = None\n",
    "\n",
    "    if strategy_type == \"cci_type1\":\n",
    "        for i, x in cci_index_df.iterrows():\n",
    "            if i > 0:\n",
    "                if cci_index_df.loc[i-1][cci_column_var] <= cci_stagnation_benchmark and cci_index_df.loc[i][cci_column_var] > cci_stagnation_benchmark:\n",
    "                    cci_index_df.loc[i,'cci_trade_signal'] = \"Buy\"\n",
    "                if cci_index_df.loc[i-1][cci_column_var] >= cci_overheating_benchmark and cci_index_df.loc[i][cci_column_var] < cci_overheating_benchmark:\n",
    "                    cci_index_df.loc[i,'cci_trade_signal'] = \"Sell\"\n",
    "\n",
    "    elif strategy_type == \"cci_type2\":\n",
    "        cci_index_df[\"cci_trade_signal\"] = np.where(cci_index_df[cci_column_var]  <= cci_stagnation_benchmark, \"Buy\", cci_index_df[\"cci_trade_signal\"])\n",
    "        cci_index_df[\"cci_trade_signal\"] = np.where(cci_index_df[cci_column_var]  >= cci_overheating_benchmark, \"Sell\", cci_index_df[\"cci_trade_signal\"])\n",
    "    \n",
    "    elif strategy_type == \"cci_type3\":\n",
    "        target_investment_days = int(target_investment_days)\n",
    "        target_return_rate = int(target_return_rate)\n",
    "        for i, x in cci_index_df.iterrows():\n",
    "            if i > 0:\n",
    "                if cci_index_df.loc[i-1][cci_column_var] <= cci_stagnation_benchmark and cci_index_df.loc[i][cci_column_var] > cci_stagnation_benchmark:\n",
    "                    cci_index_df.loc[i,'cci_trade_signal'] = \"Buy\"\n",
    "\n",
    "        buy_date_dq = deque(cci_index_df[cci_index_df[\"cci_trade_signal\"] == \"Buy\"][date_column_var].tolist())\n",
    "        for d in buy_date_dq:\n",
    "            max_target_investment_date = d + timedelta(days=target_investment_days)\n",
    "            next_invest_df = cci_index_df[(cci_index_df[date_column_var] > d) & (cci_index_df[date_column_var] <= max_target_investment_date)].reset_index(drop=True)\n",
    "            buy_signal_price = cci_index_df[cci_index_df[date_column_var] == d][\"Close\"].iloc[0]\n",
    "            target_revenue_price = int(buy_signal_price + (buy_signal_price* (target_return_rate/100)))            \n",
    "            win_df = next_invest_df[next_invest_df[\"Close\"]>target_revenue_price].reset_index(drop=True)\n",
    "            plus_min_date = win_df[date_column_var].min()\n",
    "            if len(win_df) == 0:\n",
    "                cci_index_df[\"cci_trade_signal\"] = np.where(cci_index_df[date_column_var] == max_target_investment_date, \"TimeoutSell\", cci_index_df[\"cci_trade_signal\"]) \n",
    "            else:\n",
    "                cci_index_df[\"cci_trade_signal\"] = np.where(cci_index_df[date_column_var] == plus_min_date, \"Sell\", cci_index_df[\"cci_trade_signal\"]) \n",
    "\n",
    "    signal_df = cci_index_df\n",
    "    return signal_df\n",
    "\n",
    "def int_to_comma_string(num_var):\n",
    "    return format(num_var, \",\")\n",
    "\n",
    "def create_stratege_performance(signal_df, strategy_type):\n",
    "    \"\"\"\n",
    "    return performance_df, return_json\n",
    "    \"\"\"\n",
    "    \n",
    "    signal_df[\"total_buy_amount\"] = None\n",
    "    signal_df[\"total_sell_amount\"] = None\n",
    "    signal_df[\"buy_shares\"] = None\n",
    "    signal_df[\"avg_buy_price\"] = None\n",
    "    signal_df[\"real_revenue\"] = None\n",
    "    signal_df[\"real_timeoutsell_revenue\"] = None\n",
    "    signal_df[\"real_sell_loss\"] = None\n",
    "    signal_df[\"real_timeoutsell_loss\"] = None\n",
    "    signal_df[\"real_sell_shares\"] = None\n",
    "    signal_df[\"remain_revenue\"] = None\n",
    "    signal_df[\"remain_shares\"] = 0\n",
    "    signal_df[\"real_revenue_rate\"] = None\n",
    "    signal_df[\"budget\"] = 0\n",
    "    signal_df[\"timeout_revenue\"] = None\n",
    "\n",
    "    buy_price_dq = deque()\n",
    "    cci_total_buy_shares = 0\n",
    "    total_buy_amount = 0\n",
    "    real_sell_shares = 0\n",
    "    total_sell_amount = 0\n",
    "    cci_return_amount = 0\n",
    "    for i, x in signal_df.iterrows():\n",
    "        if x[\"cci_trade_signal\"] == \"Buy\":\n",
    "            cci_total_buy_shares = cci_total_buy_shares+1\n",
    "            total_buy_amount = round(total_buy_amount + x[\"Close\"], 2)\n",
    "            buy_price_dq.append(x[\"Close\"])\n",
    "            signal_df.loc[i, \"remain_shares\"] = len(buy_price_dq)\n",
    "            signal_df.loc[i, \"total_buy_amount\"] = np.sum(buy_price_dq)\n",
    "            signal_df.loc[i, \"buy_shares\"] = len(buy_price_dq)\n",
    "            signal_df.loc[i, \"avg_buy_price\"] = np.mean(buy_price_dq)\n",
    "            signal_df.loc[i, \"budget\"] = signal_df.loc[i-1, \"budget\"] + x[\"Close\"]\n",
    "        elif x[\"cci_trade_signal\"] == None:\n",
    "            if i > 0:\n",
    "                signal_df.loc[i, \"remain_shares\"] = signal_df.loc[i-1, \"remain_shares\"]\n",
    "                signal_df.loc[i, \"avg_buy_price\"] = signal_df.loc[i-1, \"avg_buy_price\"]\n",
    "                signal_df.loc[i, \"total_buy_amount\"] = signal_df.loc[i-1, \"total_buy_amount\"]\n",
    "                signal_df.loc[i, \"budget\"] = signal_df.loc[i-1, \"budget\"]\n",
    "        elif x[\"cci_trade_signal\"] == \"Sell\" and signal_df.loc[i-1, \"remain_shares\"] > 0:\n",
    "            real_sell_shares = real_sell_shares + 1\n",
    "            total_sell_amount = round(total_sell_amount + x[\"Close\"], 2)\n",
    "            remain_first_buy_price = buy_price_dq.popleft()\n",
    "            real_revenue = signal_df.loc[i, \"Close\"] - remain_first_buy_price\n",
    "            signal_df.loc[i, \"real_revenue\"] = real_revenue\n",
    "            cci_return_amount = round(cci_return_amount + remain_first_buy_price + real_revenue, 2)\n",
    "\n",
    "            signal_df.loc[i, \"real_revenue_rate\"] = signal_df.loc[i, \"real_revenue\"] / remain_first_buy_price * 100\n",
    "            signal_df.loc[i, \"remain_shares\"] = len(buy_price_dq)\n",
    "            signal_df.loc[i, \"budget\"] = signal_df.loc[i-1, \"budget\"] - x[\"Close\"]\n",
    "            if len(buy_price_dq) > 0:\n",
    "                signal_df.loc[i, \"total_buy_amount\"] = np.sum(buy_price_dq)\n",
    "                signal_df.loc[i, \"avg_buy_price\"] = np.mean(buy_price_dq)\n",
    "            else:\n",
    "                signal_df.loc[i, \"total_buy_amount\"] = 0\n",
    "                signal_df.loc[i, \"avg_buy_price\"] = 0\n",
    "        # elif x[\"cci_trade_signal\"] == \"timeoutSell\":\n",
    "\n",
    "\n",
    "    # Strategy Performance\n",
    "    budget = int(signal_df[\"budget\"].max())\n",
    "    cci_budget_str = int_to_comma_string(budget)\n",
    "\n",
    "    cci_total_buy_shares_str = int_to_comma_string(cci_total_buy_shares)\n",
    "    cci_total_buy_amount_str = int_to_comma_string(total_buy_amount)\n",
    "\n",
    "    cci_total_sell_amount_str = int_to_comma_string(total_sell_amount)\n",
    "\n",
    "    remain_shares = signal_df[\"remain_shares\"].iloc[-1]\n",
    "    cci_remain_shares_str = int_to_comma_string(remain_shares)\n",
    "    cci_real_sell_shares_str = int_to_comma_string(real_sell_shares)\n",
    "    real_revenue = int(signal_df[\"real_revenue\"].sum())\n",
    "    cci_real_revenue_str = int_to_comma_string(real_revenue)\n",
    "    cci_return_amount_str = int_to_comma_string(cci_return_amount)\n",
    "\n",
    "    cci_current_invest_amount = round(np.sum(buy_price_dq), 0)\n",
    "    cci_current_invest_amount_str = int_to_comma_string(cci_current_invest_amount)\n",
    "    avg_buy_price = 0\n",
    "    if cci_total_buy_shares != 0:\n",
    "        avg_buy_price = round(total_buy_amount / cci_total_buy_shares, 2)\n",
    "    cci_avg_buy_price_str = int_to_comma_string(avg_buy_price)\n",
    "\n",
    "    remain_revenue = int((signal_df[\"Close\"].iloc[-1] - avg_buy_price) * remain_shares)\n",
    "    cci_remain_revenue_str = int_to_comma_string(remain_revenue)\n",
    "\n",
    "    cci_revenue = real_revenue + remain_revenue\n",
    "    cci_revenue_str = int_to_comma_string(cci_revenue)\n",
    "    cci_revenue_rate = 0\n",
    "    if budget != 0:\n",
    "        cci_revenue_rate = round(cci_revenue / budget * 100, 2)\n",
    "    cci_revenue_rate_str = int_to_comma_string(cci_revenue_rate)\n",
    "\n",
    "    cci_avg_real_revenue_rate = 0\n",
    "    if total_sell_amount != 0:\n",
    "        cci_avg_real_revenue_rate = round(np.float64(real_revenue)/np.float64(total_sell_amount) * 100, 2)\n",
    "    cci_avg_real_revenue_rate_str = int_to_comma_string(cci_avg_real_revenue_rate)\n",
    "\n",
    "    return_dict = {\n",
    "        \"cci_strategy_type\" :strategy_type, \n",
    "        \"budget\" : budget,\n",
    "        \"cci_budget_str\" : cci_budget_str,\n",
    "        \"cci_total_buy_shares_str\" : cci_total_buy_shares_str,\n",
    "        \"cci_total_buy_amount_str\" : cci_total_buy_amount_str,\n",
    "        \"cci_total_sell_amount_str\" : cci_total_sell_amount_str,\n",
    "        \"cci_remain_shares_str\" : cci_remain_shares_str,\n",
    "        \"cci_real_sell_shares_str\" : cci_real_sell_shares_str,\n",
    "        \"cci_real_revenue_str\" : cci_real_revenue_str,\n",
    "        \"cci_return_amount_str\" : cci_return_amount_str,\n",
    "        \"cci_current_invest_amount_str\" : cci_current_invest_amount_str,\n",
    "        \"cci_avg_buy_price_str\" : cci_avg_buy_price_str,\n",
    "        \"cci_remain_revenue_str\" : cci_remain_revenue_str,\n",
    "        \"cci_revenue_str\" : cci_revenue_str,\n",
    "        \"cci_revenue_rate_str\" : cci_revenue_rate_str,\n",
    "        \"cci_avg_real_revenue_rate_str\":cci_avg_real_revenue_rate_str,\n",
    "        \n",
    "    }\n",
    "\n",
    "    return_json = json.dumps(return_dict)\n",
    "    \n",
    "    performance_df = signal_df\n",
    "    return performance_df, return_json"
   ]
  },
  {
   "cell_type": "code",
   "execution_count": null,
   "metadata": {},
   "outputs": [],
   "source": [
    "access_token = issue_access_token(HankookConfig.kr_key, HankookConfig.kr_secret)"
   ]
  },
  {
   "cell_type": "code",
   "execution_count": null,
   "metadata": {},
   "outputs": [],
   "source": [
    "symbol = \"005935\"\n",
    "trip_end = datetime.now().date()\n",
    "\n",
    "def run_trade(symbol, trip_end, access_token):\n",
    "    price_df = create_object_price_dataframe(symbol, trip_end)\n",
    "    cci_index_df = create_cci_index(price_df, CalculateCCIConfig.default_cci_calculate_days)\n",
    "    signal_df = create_trade_signal_cci(cci_index_df, 100, -100, \"cci_type2\", 7, 1)\n",
    "    t_df = signal_df.iloc[-1]\n",
    "    order_price = t_df[\"Close\"]\n",
    "    cci_trade_signal = t_df[\"cci_trade_signal\"]\n",
    "    if t_df[DataFrameConfig.date_column_var] == datetime.strptime(\"2023-12-26\", \"%Y-%m-%d\").date():\n",
    "        if cci_trade_signal == \"Buy\":\n",
    "            res = TradeHankookAPI(HankookConfig).kr_order_cash_stock(\"Buy\", symbol, \"1\", \"01\", f\"{order_price}\", access_token)\n",
    "            message = res[\"msg1\"]\n",
    "            SendMessageSlack(SlackConfig).send_simple_message(message)\n",
    "        elif cci_trade_signal == \"Sell\":\n",
    "            res = TradeHankookAPI(HankookConfig).kr_order_cash_stock(\"Sell\", symbol, \"1\", \"01\", f\"{order_price}\", access_token)\n",
    "            message = res[\"msg1\"]\n",
    "            SendMessageSlack(SlackConfig).send_simple_message(message)\n",
    "            "
   ]
  },
  {
   "cell_type": "code",
   "execution_count": null,
   "metadata": {},
   "outputs": [],
   "source": [
    "run_trade(symbol, trip_end, access_token)\n"
   ]
  },
  {
   "cell_type": "code",
   "execution_count": null,
   "metadata": {},
   "outputs": [],
   "source": [
    "res[\"msg1\"]"
   ]
  },
  {
   "cell_type": "code",
   "execution_count": null,
   "metadata": {},
   "outputs": [],
   "source": [
    "run_function = SendMessageSlack(SlackConfig).send_simple_message"
   ]
  },
  {
   "cell_type": "code",
   "execution_count": null,
   "metadata": {},
   "outputs": [],
   "source": [
    "send_simple_message"
   ]
  },
  {
   "cell_type": "code",
   "execution_count": null,
   "metadata": {},
   "outputs": [],
   "source": [
    "sched = BackgroundScheduler(daemon=True)\n",
    "sched.start()\n",
    "trigger_kr_trade = CronTrigger(\n",
    "    year=\"*\", month=\"*\", day=\"*\", hour=\"*\", minute=\"*\", second=\"0\"\n",
    ")\n",
    "\n",
    "create_hour = datetime.now().hour\n",
    "create_minute = datetime.now().minute\n",
    "create_second = datetime.now().second\n",
    "\n",
    "sched.add_job(run_function, trigger=trigger_kr_trade, args=[f\"메시지 초안\"])\n",
    "\n",
    "app = Flask(__name__)\n",
    "if __name__ == \"__main__\":\n",
    "    app.run(host=\"0.0.0.0\", port = 5500, debug=False, use_reloader=False)"
   ]
  }
 ],
 "metadata": {
  "kernelspec": {
   "display_name": "Python 3",
   "language": "python",
   "name": "python3"
  },
  "language_info": {
   "codemirror_mode": {
    "name": "ipython",
    "version": 3
   },
   "file_extension": ".py",
   "mimetype": "text/x-python",
   "name": "python",
   "nbconvert_exporter": "python",
   "pygments_lexer": "ipython3",
   "version": "3.11.7"
  },
  "orig_nbformat": 4
 },
 "nbformat": 4,
 "nbformat_minor": 2
}
